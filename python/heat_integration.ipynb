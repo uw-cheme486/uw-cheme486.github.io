{
 "cells": [
  {
   "cell_type": "code",
   "execution_count": 1,
   "metadata": {},
   "outputs": [],
   "source": [
    "import pandas as pd\n",
    "import numpy as np\n",
    "import matplotlib.pyplot as plt\n",
    "import string"
   ]
  },
  {
   "cell_type": "code",
   "execution_count": 2,
   "metadata": {},
   "outputs": [],
   "source": [
    "d = {'Condition': ['H', 'H', 'H', 'C', 'C', 'C'],\n",
    "     'Flowrate': [10, 2.5, 3, 6.25, 10, 4],\n",
    "     'CP': [0.8, 0.8, 1.0, 0.8, 0.8, 1.0],\n",
    "     'Tin': [300, 150, 200, 190, 90, 40],\n",
    "     'Tout': [150, 50, 50, 290, 190, 190]}\n",
    "\n",
    "data = pd.DataFrame(data=d)"
   ]
  },
  {
   "cell_type": "code",
   "execution_count": 22,
   "metadata": {},
   "outputs": [],
   "source": [
    "class MNUHE():\n",
    "    \n",
    "    def __init__(self, rawdata, deltaT):\n",
    "        self.rawdata = rawdata\n",
    "        self.deltaT = deltaT\n",
    "        \n",
    "        self.rawdata['mCP'] = self.rawdata.Flowrate*self.rawdata.CP\n",
    "        self.rawdata['Q'] = self.rawdata.mCP*(self.rawdata.Tin - self.rawdata.Tout)\n",
    "        \n",
    "        self.Qtotal = self.rawdata.Q.sum()\n",
    "        self.nstreams = self.rawdata.shape[0]\n",
    "        \n",
    "    def interval_diagram(self):\n",
    "        \n",
    "        self.rawdata['deltaT'] = self.rawdata.Tout - self.rawdata.Tin\n",
    "        \n",
    "        # Temperatures in terms of hot streams\n",
    "        self.rawdata['Tin_C'] = self.rawdata.Tin\n",
    "        self.rawdata['Tout_C'] = self.rawdata.Tout\n",
    "        self.rawdata.loc[(self.rawdata.Condition == 'H'), ['Tin_C', 'Tout_C']] += - self.deltaT\n",
    "        \n",
    "        # Temperatures in terms of cold streams\n",
    "        self.rawdata['Tin_H'] = self.rawdata.Tin\n",
    "        self.rawdata['Tout_H'] = self.rawdata.Tout\n",
    "        self.rawdata.loc[(self.rawdata.Condition == 'C'), ['Tin_H', 'Tout_H']] += self.deltaT\n",
    "        \n",
    "        # Define temperature intervals\n",
    "        self.hotintervals = np.unique(self.rawdata.loc[:, ['Tin_H', 'Tout_H']].values)[::-1]\n",
    "        self.coldintervals = np.unique(self.rawdata.loc[:, ['Tin_C', 'Tout_C']].values)[::-1]\n",
    "        self.nintervals = self.hotintervals.shape[0] - 1\n",
    "        \n",
    "        # Make plot\n",
    "        fig, ax = plt.subplots(figsize=(11, 7))\n",
    "        ax2 = ax.twinx()\n",
    "        \n",
    "        \n",
    "        headl = 20\n",
    "        \n",
    "        Thi = np.max(self.hotintervals)\n",
    "        Tlo = np.min(self.hotintervals)\n",
    "        Thi2 = np.max(self.coldintervals)\n",
    "        Tlo2 = np.min(self.coldintervals)\n",
    "\n",
    "        for i in self.hotintervals:\n",
    "            ax.hlines(i, 0, 7)\n",
    "        \n",
    "        i = 0\n",
    "        while i < self.nstreams:\n",
    "\n",
    "            if self.rawdata.Condition[i] == 'H':\n",
    "                ax.arrow(i+1, self.rawdata.Tin_H[i], 0, self.rawdata.deltaT[i] + headl, width=0.25, head_width=0.5, head_length=headl, color='Red')\n",
    "            else:\n",
    "                ax2.arrow(i+1, self.rawdata.Tin_C[i], 0, self.rawdata.deltaT[i] - headl, width=0.25, head_width=0.5, head_length=headl, color='Blue')\n",
    "            i += 1\n",
    "\n",
    "        \n",
    "\n",
    "\n",
    "        ax.set_ylim([Tlo-20, Thi+20])\n",
    "        ax.set_xlim([0, self.nstreams + 1])\n",
    "        ax2.set_ylim([Tlo2 - 20, Thi2+20])\n",
    "        yticks = ax.get_yticks()\n",
    "        ax2.set_yticks(yticks[1:-1]-self.deltaT)\n",
    "        print(yticks)\n",
    "        \n",
    "        \n",
    "    def cascade_diagram(self):\n",
    "        test = self\n",
    "        energy_left = []\n",
    "\n",
    "        for i, lo in enumerate(test.hotintervals):\n",
    "\n",
    "            if lo > np.min(test.hotintervals):\n",
    "                # print('Range: {} - {}'.format(lo, test.hotintervals[i+1]))\n",
    "                # Calculate the midpoint of each temperature interval\n",
    "                midp = np.average([lo, test.hotintervals[i+1]])\n",
    "\n",
    "                # Narrow down the streams that are present in each temperature interval\n",
    "                short = test.rawdata.loc[((test.rawdata.Tout_H - midp)*(test.rawdata.Tin_H - midp) < 0), :]\n",
    "                signs = np.vectorize({'H':-1, 'C':1}.get)(short.Condition)\n",
    "\n",
    "                # Calculate the energy available in each temperature interval\n",
    "                energy_left.append(np.sum(signs*short.mCP*(test.hotintervals[i+1] - test.hotintervals[i])))\n",
    "\n",
    "            else:\n",
    "                pass\n",
    "        \n",
    "        \n",
    "        # Create cascade diagram\n",
    "        cascade = np.cumsum(np.array(energy_left))\n",
    "        fig, ax = plt.subplots(figsize=(11, 7))\n",
    "        props = dict(boxstyle='round', facecolor='white', pad=0.6)\n",
    "        levels = np.linspace(0.83, 0.08, test.nintervals)\n",
    "        letters = string.ascii_uppercase[:test.nintervals]\n",
    "        adjust = 0.05\n",
    "        width = (levels[0] - levels[1])/2 - adjust\n",
    "\n",
    "        pinchloc = np.where(cascade < 0)[0][0]\n",
    "        qH = -cascade[pinchloc]\n",
    "        Tpinch_H = test.hotintervals[pinchloc+1]\n",
    "        Tpinch_C = test.coldintervals[pinchloc+1]\n",
    "\n",
    "        oneup = cascade + qH\n",
    "        qC = oneup[-1]\n",
    "\n",
    "        qh_hor = levels[pinchloc] + adjust\n",
    "        pinch_hor = np.average([levels[pinchloc], levels[pinchloc+1]]) + adjust\n",
    "\n",
    "        for i, level in enumerate(energy_left):\n",
    "            ax.text(0.5, levels[i], '{}\\n{}'.format(letters[i], energy_left[i]), fontsize=20, horizontalalignment='center', bbox=props)\n",
    "\n",
    "        for i, level in enumerate(cascade):\n",
    "            if level < 0:\n",
    "                pass\n",
    "            elif i >= test.nintervals-1:\n",
    "                pass\n",
    "            else:\n",
    "                ax.text(0.65, levels[i] - width, '{}'.format(level), fontsize=20, horizontalalignment='center')\n",
    "                ax.arrow(0.5, levels[i], 0, (levels[i+1] - levels[i])/2 + 0.4*adjust, width=0.001, head_width=0.02, head_length=0.01, color='k')\n",
    "\n",
    "        # QHot\n",
    "        ax.arrow(0.15, qh_hor, 0.25, 0, width=0.001, head_width=0.02, head_length=0.01, color='k')\n",
    "        ax.text(0.1, qh_hor - adjust, '{}\\n{}'.format('Qh', qH), fontsize=20, horizontalalignment='center', bbox=props)\n",
    "\n",
    "        # QCold\n",
    "        ax.arrow(0.6, levels[-1] + adjust, 0.25, 0, width=0.001, head_width=0.02, head_length=0.01, color='k')\n",
    "        ax.text(0.92, levels[-1], '{}\\n{}'.format('Qc', qC), fontsize=20, horizontalalignment='center', bbox=props)\n",
    "\n",
    "        # Pinch\n",
    "        ax.hlines(pinch_hor, 0, 1, color='k', linestyles='--')\n",
    "        ax.set_ylim([0, 1])\n",
    "        ax.axis('off')\n",
    "        \n",
    "        self.energy_left = energy_left\n",
    "        self.cascade = cascade\n",
    "        self.pinchloc = pinchloc\n",
    "        self.qH = qH\n",
    "        self.qC = qC\n",
    "        self.Tpinch_H = Tpinch_H\n",
    "        self.Tpinch_C = Tpinch_C\n",
    "        "
   ]
  },
  {
   "cell_type": "code",
   "execution_count": 23,
   "metadata": {},
   "outputs": [
    {
     "name": "stdout",
     "output_type": "stream",
     "text": [
      "-50.0\n"
     ]
    }
   ],
   "source": [
    "test = MNUHE(data, 10)"
   ]
  },
  {
   "cell_type": "code",
   "execution_count": 25,
   "metadata": {},
   "outputs": [
    {
     "name": "stdout",
     "output_type": "stream",
     "text": [
      "[  0.  50. 100. 150. 200. 250. 300. 350.]\n"
     ]
    },
    {
     "data": {
      "image/png": "[encoded data removed]",
      "text/plain": [
       "<Figure size 792x504 with 2 Axes>"
      ]
     },
     "metadata": {
      "needs_background": "light"
     },
     "output_type": "display_data"
    }
   ],
   "source": [
    "test.interval_diagram()"
   ]
  },
  {
   "cell_type": "code",
   "execution_count": 370,
   "metadata": {},
   "outputs": [
    {
     "data": {
      "text/plain": [
       "[300.0, -50.0, -350.0, 50.0]"
      ]
     },
     "execution_count": 370,
     "metadata": {},
     "output_type": "execute_result"
    }
   ],
   "source": [
    "test.energy_left"
   ]
  },
  {
   "cell_type": "code",
   "execution_count": 371,
   "metadata": {},
   "outputs": [
    {
     "data": {
      "text/plain": [
       "array([ 300.,  250., -100.,  -50.])"
      ]
     },
     "execution_count": 371,
     "metadata": {},
     "output_type": "execute_result"
    }
   ],
   "source": [
    "test.cascade"
   ]
  },
  {
   "cell_type": "code",
   "execution_count": 368,
   "metadata": {},
   "outputs": [
    {
     "data": {
      "image/png": "[encoded data removed]",
      "text/plain": [
       "<Figure size 792x504 with 1 Axes>"
      ]
     },
     "metadata": {
      "needs_background": "light"
     },
     "output_type": "display_data"
    }
   ],
   "source": [
    "test.cascade_diagram()"
   ]
  },
  {
   "cell_type": "code",
   "execution_count": 418,
   "metadata": {},
   "outputs": [],
   "source": [
    "test.rawdata['Qabove'] = test.rawdata.Q\n",
    "test.rawdata['Qbelow'] = test.rawdata.Q\n",
    "\n",
    "hots = test.rawdata.loc[(test.rawdata.Condition == 'H'), :]\n",
    "a1 = hots.mCP*(hots.Tin_H - hots.Tout_H)\n",
    "a2 = hots.mCP*(hots.Tin_H - test.Tpinch_H)\n",
    "a3 = np.minimum(a1, a2)\n",
    "a3[a3 < 0] = np.nan\n",
    "test.rawdata.loc[(test.rawdata.Condition == 'H'), 'Qabove'] = a3\n",
    "\n",
    "a1 = hots.mCP*(hots.Tin_H - hots.Tout_H)\n",
    "a2 = hots.mCP*(test.Tpinch_H - hots.Tout_H)\n",
    "a3 = np.minimum(a1, a2)\n",
    "a3[a3 < 0] = np.nan\n",
    "test.rawdata.loc[(test.rawdata.Condition == 'H'), 'Qbelow'] = a3\n",
    "\n",
    "colds = test.rawdata.loc[(test.rawdata.Condition == 'C'), :]\n",
    "a1 = colds.mCP*(colds.Tin_C - colds.Tout_C)\n",
    "a2 = colds.mCP*(test.Tpinch_C -  colds.Tout_C)\n",
    "a3 = np.maximum(a1, a2)\n",
    "a3[a3 > 0] = np.nan\n",
    "test.rawdata.loc[(test.rawdata.Condition == 'C'), 'Qabove'] = a3\n",
    "\n",
    "a1 = colds.mCP*(colds.Tin_C - colds.Tout_C)\n",
    "a2 = colds.mCP*(colds.Tin_C - test.Tpinch_C)\n",
    "a3 = np.maximum(a1, a2)\n",
    "a3[a3 > 0] = np.nan\n",
    "test.rawdata.loc[(test.rawdata.Condition == 'C'), 'Qbelow'] = a3\n",
    "\n"
   ]
  },
  {
   "cell_type": "code",
   "execution_count": 419,
   "metadata": {},
   "outputs": [
    {
     "data": {
      "text/html": [
       "<div>\n",
       "<style scoped>\n",
       "    .dataframe tbody tr th:only-of-type {\n",
       "        vertical-align: middle;\n",
       "    }\n",
       "\n",
       "    .dataframe tbody tr th {\n",
       "        vertical-align: top;\n",
       "    }\n",
       "\n",
       "    .dataframe thead th {\n",
       "        text-align: right;\n",
       "    }\n",
       "</style>\n",
       "<table border=\"1\" class=\"dataframe\">\n",
       "  <thead>\n",
       "    <tr style=\"text-align: right;\">\n",
       "      <th></th>\n",
       "      <th>Condition</th>\n",
       "      <th>Flowrate</th>\n",
       "      <th>CP</th>\n",
       "      <th>Tin</th>\n",
       "      <th>Tout</th>\n",
       "      <th>mCP</th>\n",
       "      <th>Q</th>\n",
       "      <th>deltaT</th>\n",
       "      <th>Tin_C</th>\n",
       "      <th>Tout_C</th>\n",
       "      <th>Tin_H</th>\n",
       "      <th>Tout_H</th>\n",
       "      <th>Qabove</th>\n",
       "      <th>Qbelow</th>\n",
       "    </tr>\n",
       "  </thead>\n",
       "  <tbody>\n",
       "    <tr>\n",
       "      <th>0</th>\n",
       "      <td>H</td>\n",
       "      <td>10.00</td>\n",
       "      <td>0.8</td>\n",
       "      <td>300</td>\n",
       "      <td>150</td>\n",
       "      <td>8.0</td>\n",
       "      <td>1200.0</td>\n",
       "      <td>-150</td>\n",
       "      <td>290</td>\n",
       "      <td>140</td>\n",
       "      <td>300</td>\n",
       "      <td>150</td>\n",
       "      <td>1200.0</td>\n",
       "      <td>NaN</td>\n",
       "    </tr>\n",
       "    <tr>\n",
       "      <th>1</th>\n",
       "      <td>H</td>\n",
       "      <td>2.50</td>\n",
       "      <td>0.8</td>\n",
       "      <td>150</td>\n",
       "      <td>50</td>\n",
       "      <td>2.0</td>\n",
       "      <td>200.0</td>\n",
       "      <td>-100</td>\n",
       "      <td>140</td>\n",
       "      <td>40</td>\n",
       "      <td>150</td>\n",
       "      <td>50</td>\n",
       "      <td>100.0</td>\n",
       "      <td>100.0</td>\n",
       "    </tr>\n",
       "    <tr>\n",
       "      <th>2</th>\n",
       "      <td>H</td>\n",
       "      <td>3.00</td>\n",
       "      <td>1.0</td>\n",
       "      <td>200</td>\n",
       "      <td>50</td>\n",
       "      <td>3.0</td>\n",
       "      <td>450.0</td>\n",
       "      <td>-150</td>\n",
       "      <td>190</td>\n",
       "      <td>40</td>\n",
       "      <td>200</td>\n",
       "      <td>50</td>\n",
       "      <td>300.0</td>\n",
       "      <td>150.0</td>\n",
       "    </tr>\n",
       "    <tr>\n",
       "      <th>3</th>\n",
       "      <td>C</td>\n",
       "      <td>6.25</td>\n",
       "      <td>0.8</td>\n",
       "      <td>190</td>\n",
       "      <td>290</td>\n",
       "      <td>5.0</td>\n",
       "      <td>-500.0</td>\n",
       "      <td>100</td>\n",
       "      <td>190</td>\n",
       "      <td>290</td>\n",
       "      <td>200</td>\n",
       "      <td>300</td>\n",
       "      <td>-500.0</td>\n",
       "      <td>NaN</td>\n",
       "    </tr>\n",
       "    <tr>\n",
       "      <th>4</th>\n",
       "      <td>C</td>\n",
       "      <td>10.00</td>\n",
       "      <td>0.8</td>\n",
       "      <td>90</td>\n",
       "      <td>190</td>\n",
       "      <td>8.0</td>\n",
       "      <td>-800.0</td>\n",
       "      <td>100</td>\n",
       "      <td>90</td>\n",
       "      <td>190</td>\n",
       "      <td>100</td>\n",
       "      <td>200</td>\n",
       "      <td>-800.0</td>\n",
       "      <td>0.0</td>\n",
       "    </tr>\n",
       "    <tr>\n",
       "      <th>5</th>\n",
       "      <td>C</td>\n",
       "      <td>4.00</td>\n",
       "      <td>1.0</td>\n",
       "      <td>40</td>\n",
       "      <td>190</td>\n",
       "      <td>4.0</td>\n",
       "      <td>-600.0</td>\n",
       "      <td>150</td>\n",
       "      <td>40</td>\n",
       "      <td>190</td>\n",
       "      <td>50</td>\n",
       "      <td>200</td>\n",
       "      <td>-400.0</td>\n",
       "      <td>-200.0</td>\n",
       "    </tr>\n",
       "  </tbody>\n",
       "</table>\n",
       "</div>"
      ],
      "text/plain": [
       "  Condition  Flowrate   CP  Tin  Tout  mCP       Q  deltaT  Tin_C  Tout_C  \\\n",
       "0         H     10.00  0.8  300   150  8.0  1200.0    -150    290     140   \n",
       "1         H      2.50  0.8  150    50  2.0   200.0    -100    140      40   \n",
       "2         H      3.00  1.0  200    50  3.0   450.0    -150    190      40   \n",
       "3         C      6.25  0.8  190   290  5.0  -500.0     100    190     290   \n",
       "4         C     10.00  0.8   90   190  8.0  -800.0     100     90     190   \n",
       "5         C      4.00  1.0   40   190  4.0  -600.0     150     40     190   \n",
       "\n",
       "   Tin_H  Tout_H  Qabove  Qbelow  \n",
       "0    300     150  1200.0     NaN  \n",
       "1    150      50   100.0   100.0  \n",
       "2    200      50   300.0   150.0  \n",
       "3    200     300  -500.0     NaN  \n",
       "4    100     200  -800.0     0.0  \n",
       "5     50     200  -400.0  -200.0  "
      ]
     },
     "execution_count": 419,
     "metadata": {},
     "output_type": "execute_result"
    }
   ],
   "source": [
    "test.rawdata"
   ]
  },
  {
   "cell_type": "code",
   "execution_count": 408,
   "metadata": {},
   "outputs": [
    {
     "data": {
      "text/plain": [
       "3     True\n",
       "4    False\n",
       "5    False\n",
       "dtype: bool"
      ]
     },
     "execution_count": 408,
     "metadata": {},
     "output_type": "execute_result"
    }
   ],
   "source": [
    "hmm = np.maximum(a1, a2)\n",
    "hmm[hmm > 0] = 0"
   ]
  },
  {
   "cell_type": "code",
   "execution_count": 405,
   "metadata": {},
   "outputs": [
    {
     "data": {
      "text/plain": [
       "3   -500.0\n",
       "4   -800.0\n",
       "5   -600.0\n",
       "dtype: float64"
      ]
     },
     "execution_count": 405,
     "metadata": {},
     "output_type": "execute_result"
    }
   ],
   "source": [
    "a1"
   ]
  },
  {
   "cell_type": "code",
   "execution_count": null,
   "metadata": {},
   "outputs": [],
   "source": []
  }
 ],
 "metadata": {
  "kernelspec": {
   "display_name": "Python 3",
   "language": "python",
   "name": "python3"
  },
  "language_info": {
   "codemirror_mode": {
    "name": "ipython",
    "version": 3
   },
   "file_extension": ".py",
   "mimetype": "text/x-python",
   "name": "python",
   "nbconvert_exporter": "python",
   "pygments_lexer": "ipython3",
   "version": "3.7.2"
  }
 },
 "nbformat": 4,
 "nbformat_minor": 4
}
